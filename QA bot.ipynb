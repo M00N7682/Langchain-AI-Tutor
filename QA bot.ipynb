{
 "cells": [
  {
   "cell_type": "code",
   "execution_count": 1,
   "id": "d4090832",
   "metadata": {},
   "outputs": [],
   "source": [
    "#pdf load\n",
    "from langchain.document_loaders import PyPDFLoader\n",
    "import os\n",
    "\n",
    "#QA\n",
    "import os\n",
    "from langchain.document_loaders import TextLoader\n",
    "from langchain.text_splitter import RecursiveCharacterTextSplitter\n",
    "from langchain.vectorstores import FAISS\n",
    "from langchain.embeddings import OpenAIEmbeddings\n",
    "from langchain.chains import RetrievalQA\n",
    "from langchain.chat_models import ChatOpenAI\n",
    "from dotenv import load_dotenv"
   ]
  },
  {
   "cell_type": "code",
   "execution_count": 2,
   "id": "c4c97e5a",
   "metadata": {},
   "outputs": [
    {
     "name": "stdout",
     "output_type": "stream",
     "text": [
      "PDF가 성공적으로 저장되었습니다! 위치: C:\\Users\\user\\Documents\\converted_text1.txt\n"
     ]
    }
   ],
   "source": [
    "### pdf -> txt\n",
    "pdf_path = r\"C:\\Users\\user\\Documents\\카카오톡 받은 파일\\판단과_결정_OCR.pdf\"\n",
    "\n",
    "loader = PyPDFLoader(pdf_path)\n",
    "pages = loader.load()\n",
    "\n",
    "all_text = \"\\n\".join([page.page_content for page in pages])\n",
    "\n",
    "save_path = r\"C:\\Users\\user\\Documents\\converted_text1.txt\"\n",
    "\n",
    "with open(save_path, \"w\", encoding=\"utf-8\") as f:\n",
    "    f.write(all_text)\n",
    "\n",
    "print(f\"PDF가 성공적으로 저장되었습니다! 위치: {save_path}\")"
   ]
  },
  {
   "cell_type": "code",
   "execution_count": 3,
   "id": "211e16d8",
   "metadata": {},
   "outputs": [
    {
     "name": "stderr",
     "output_type": "stream",
     "text": [
      "C:\\Users\\Public\\Documents\\ESTsoft\\CreatorTemp\\ipykernel_25132\\1734574900.py:14: LangChainDeprecationWarning: The class `OpenAIEmbeddings` was deprecated in LangChain 0.0.9 and will be removed in 1.0. An updated version of the class exists in the :class:`~langchain-openai package and should be used instead. To use it run `pip install -U :class:`~langchain-openai` and import as `from :class:`~langchain_openai import OpenAIEmbeddings``.\n",
      "  embeddings = OpenAIEmbeddings(openai_api_key=openai_api_key)\n",
      "C:\\Users\\Public\\Documents\\ESTsoft\\CreatorTemp\\ipykernel_25132\\1734574900.py:19: LangChainDeprecationWarning: The class `ChatOpenAI` was deprecated in LangChain 0.0.10 and will be removed in 1.0. An updated version of the class exists in the :class:`~langchain-openai package and should be used instead. To use it run `pip install -U :class:`~langchain-openai` and import as `from :class:`~langchain_openai import ChatOpenAI``.\n",
      "  llm=ChatOpenAI(model_name=\"gpt-3.5-turbo\", openai_api_key=openai_api_key),\n",
      "C:\\Users\\Public\\Documents\\ESTsoft\\CreatorTemp\\ipykernel_25132\\1734574900.py:29: LangChainDeprecationWarning: The method `Chain.run` was deprecated in langchain 0.1.0 and will be removed in 1.0. Use :meth:`~invoke` instead.\n",
      "  result = qa.run(query)\n"
     ]
    },
    {
     "name": "stdout",
     "output_type": "stream",
     "text": [
      "\n",
      "답변:\n",
      " 후견지명 편향은 사람들이 어떤 사건이 일어난 후에 사건의 결과를 알게 되면, 그 결과를 미리 예측했다고 과장하여 믿는 경향을 말합니다. 이 편향은 사건에 대한 사후 지식이 사전의 판단에 영향을 미치는 현상으로, 사람들은 사후 지식을 과도하게 강조하거나 사전의 판단을 사후 지식에 맞게 조정하려는 경향을 보입니다. 후견지명 편향은 결정을 내릴 때 사전에 가지고 있던 정보나 판단에 과도한 영향을 주어서 합리적이지 않은 결정을 내리게 할 수 있습니다. \n",
      "\n",
      "\n",
      "답변:\n",
      " 자기과신은 자신의 능력이나 성과를 실제보다 낮게 혹은 남보다 못하다고 평가하는 경향을 가리키며, 이러한 자기과신은 몇 가지 심각한 단점을 가지고 있습니다. 첫째, 자기과신은 판단과 결정에 문제를 일으키는 가장 큰 요인 중 하나로 여겨집니다. 자기과신이 높은 사람들은 자신의 판단을 섣불리 과신하고 오류를 인정하기 어렵기 때문에 실수를 반복하거나 잘못된 결정을 내릴 가능성이 높습니다. \n",
      "\n",
      "둘째, 자기과신은 다른 여러 편향의 촉진제 역할을 하기도 합니다. 자신의 의견을 재검토하거나 오류를 바로잡는 데 어려움을 겪는 이유 중 하나가 자기과신이 높기 때문입니다. 이는 사람들이 자신의 견해와 판단이 옳다는 믿음을 버리지 않는 경향을 보여주며, 이로 인해 인간이 실수하기 쉬운 존재임에도 불구하고 자기 과신을 버리지 않는 문제를 야기할 수 있습니다.\n",
      "\n",
      "따라서, 자기과신은 판단과 결정력을 향상시키는 것이 아니라 오히려 많은 부작용을 초래할 수 있으며, 이는 개인적인 성공과 조직적인 성과에도 부정적인 영향을 미칠 수 있습니다. \n",
      "\n",
      "\n",
      "답변:\n",
      " 시스템 2 사고는 느리고 의식적이며 노력이 필요한 논리적인 사고를 말합니다. 이러한 사고 방식은 일반적으로 시스템 1 사고와 대조적으로, 더 심층적이고 고차원적인 사고를 필요로 합니다. 시스템 2 사고는 논리적으로 추론하고 문제를 해결하기 위해 노력을 기울이며, 의식적으로 정보를 가공하고 판단하는 과정을 포함합니다. 이러한 사고 방식은 일상적인 결정보다는 중요한 의사결정에 더 적합하며, 상황을 논리적으로 판단해야 할 때 활용됩니다. \n",
      "\n",
      "\n",
      "답변:\n",
      " 부주의맹증과 변화맹증은 인지심리학에서 다루는 주의력 한계 현상의 한 종류로서, 각각의 특징적인 특성을 가지고 있습니다.\n",
      "\n",
      "부주의맹증은 주변에서 일어나는 분명한 변화나 정보를 인지하지 못하는 현상을 가리킵니다. 주의력이 제한되어 있어서 분명하게 볼 수 있는 정보를 놓치는 경우가 많습니다. 예를 들어, 사람들이 운전 중 휴대전화를 사용하여 사고를 일으키는 경우와 같이, 운전 중에도 다른 중요한 정보를 놓칠 수 있습니다.\n",
      "\n",
      "반면에 변화맹증은 자기 눈 앞에서 벌어지는 변화를 인지하지 못하는 현상을 의미합니다. 주변에서 일어난 분명한 변화를 알아차리지 못하는 경향이 있습니다. 예를 들어, 한 실험에서 농구공을 들고 길거리에 서 있는 사람을 보지 못하는 경우 등이 있을 수 있습니다.\n",
      "\n",
      "따라서, 부주의맹증은 주변에서 일어나는 정보를 인지하지 못하는데 반해, 변화맹증은 주변에서 일어나는 변화를 알아차리지 못하는 특성을 가지고 있습니다. \n",
      "\n"
     ]
    }
   ],
   "source": [
    "# 1.\n",
    "load_dotenv(dotenv_path=\"C:/Users/user/Desktop/react_project/.env\")\n",
    "openai_api_key = os.getenv(\"OPENAI_API_KEY\")\n",
    "\n",
    "# 2. \n",
    "loader = TextLoader(r\"C:\\Users\\user\\Documents\\converted_text1.txt\", encoding='utf-8')\n",
    "documents = loader.load()\n",
    "\n",
    "# 3.\n",
    "text_splitter = RecursiveCharacterTextSplitter(chunk_size=1000, chunk_overlap=200)\n",
    "split_docs = text_splitter.split_documents(documents)\n",
    "\n",
    "# 4.\n",
    "embeddings = OpenAIEmbeddings(openai_api_key=openai_api_key)\n",
    "vectorstore = FAISS.from_documents(split_docs, embeddings)\n",
    "\n",
    "# 5.\n",
    "qa = RetrievalQA.from_chain_type(\n",
    "    llm=ChatOpenAI(model_name=\"gpt-3.5-turbo\", openai_api_key=openai_api_key),\n",
    "    chain_type=\"stuff\",\n",
    "    retriever=vectorstore.as_retriever()\n",
    ")\n",
    "\n",
    "# 6. \n",
    "while True:\n",
    "    query = input(\" 질문을 입력하세요 (종료하려면 'exit'): \")\n",
    "    if query.lower() in ['exit', '종료']:\n",
    "        break\n",
    "    result = qa.run(query)\n",
    "    print(\"\\n답변:\\n\", result, \"\\n\")"
   ]
  }
 ],
 "metadata": {
  "kernelspec": {
   "display_name": "Python 3",
   "language": "python",
   "name": "python3"
  },
  "language_info": {
   "codemirror_mode": {
    "name": "ipython",
    "version": 3
   },
   "file_extension": ".py",
   "mimetype": "text/x-python",
   "name": "python",
   "nbconvert_exporter": "python",
   "pygments_lexer": "ipython3",
   "version": "3.9.13"
  }
 },
 "nbformat": 4,
 "nbformat_minor": 5
}
